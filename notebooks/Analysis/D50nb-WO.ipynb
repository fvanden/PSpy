{
 "cells": [
  {
   "cell_type": "code",
   "execution_count": 1,
   "metadata": {},
   "outputs": [],
   "source": [
    "from IPython.display import Image, display, Math, Latex, HTML, Javascript\n",
    "from ipywidgets import widgets, interact, Layout, interactive \n",
    "import numpy as np\n",
    "import math\n",
    "import os\n",
    "import matplotlib.pyplot as plt\n",
    "\n",
    "# set correct paths\n",
    "\n",
    "if os.getcwd().split('/')[-1] == 'PSpy':\n",
    "    pass\n",
    "else:\n",
    "    paths = os.getcwd().split('/')[:-2]\n",
    "    newpath = '/' + os.path.join(*paths)+ '/'\n",
    "    os.chdir(newpath)\n",
    "\n",
    "from mypysmps.io.read import read # import module"
   ]
  },
  {
   "cell_type": "code",
   "execution_count": 2,
   "metadata": {},
   "outputs": [
    {
     "data": {
      "text/html": [
       "<script>\n",
       "code_show=true; \n",
       "function code_toggle() {\n",
       " if (code_show){\n",
       " $('div.input').hide();\n",
       " } else {\n",
       " $('div.input').show();\n",
       " }\n",
       " code_show = !code_show\n",
       "} \n",
       "$( document ).ready(code_toggle);\n",
       "</script>\n",
       "<form action=\"javascript:code_toggle()\"><input type=\"submit\" value=\"Click here to toggle on/off the raw code.\"></form>"
      ],
      "text/plain": [
       "<IPython.core.display.HTML object>"
      ]
     },
     "execution_count": 2,
     "metadata": {},
     "output_type": "execute_result"
    }
   ],
   "source": [
    "HTML('''<script>\n",
    "code_show=true; \n",
    "function code_toggle() {\n",
    " if (code_show){\n",
    " $('div.input').hide();\n",
    " } else {\n",
    " $('div.input').show();\n",
    " }\n",
    " code_show = !code_show\n",
    "} \n",
    "$( document ).ready(code_toggle);\n",
    "</script>\n",
    "<form action=\"javascript:code_toggle()\"><input type=\"submit\" value=\"Click here to toggle on/off the raw code.\"></form>''')"
   ]
  },
  {
   "cell_type": "code",
   "execution_count": 3,
   "metadata": {},
   "outputs": [],
   "source": [
    "#######################################\n",
    "#        Functions                    #\n",
    "#######################################\n",
    "\n",
    "def D50(n, W, RhoP, Q, C, Stk50 = 0.23):\n",
    "    \"\"\"\n",
    "    Returns the cut point diameter D50\n",
    "    \n",
    "    Parameters\n",
    "    ----------\n",
    "    n : float\n",
    "        gas viscosity (g/(cm·s))\n",
    "        \n",
    "    W : float\n",
    "        nozzle diameter (cm)\n",
    "        \n",
    "    RhoP : float\n",
    "        particle density (g/cm3)\n",
    "        \n",
    "    C : float\n",
    "        Cunningham Slip Correction\n",
    "        \n",
    "    Q : float\n",
    "        volumetric flow rate (cm3/s)\n",
    "    \n",
    "    Stk50 : float\n",
    "        Stokes number for 50% collection efficiency\n",
    "        default is 0.23\n",
    "        \n",
    "    Returns\n",
    "    -------\n",
    "    D50 : float\n",
    "        cut point diameter\n",
    "    \"\"\"\n",
    "    D50 = np.sqrt( (9*np.pi*Stk50*n*W**3)/(4*RhoP*C*Q))\n",
    "    \n",
    "    return D50\n",
    "\n",
    "def calcC(Kn, a = 1.165, b = 0.483, c = 0.997):\n",
    "    \"\"\"\n",
    "    Returns the Cunningham Slip Correction C\n",
    "    \n",
    "    Parameters\n",
    "    ----------\n",
    "    Kn : float\n",
    "        Knudsen Number (Kim et al., 2005)\n",
    "        \n",
    "    a : float\n",
    "        fixed value\n",
    "        \n",
    "    b : float\n",
    "        fixed value\n",
    "    \n",
    "    c : float\n",
    "        fixed value\n",
    "        \n",
    "    Returns\n",
    "    -------\n",
    "    C : float\n",
    "        Cunningham Slip Correction\n",
    "    \n",
    "    \"\"\"\n",
    "    C = 1 + Kn*( a + b * np.exp( - (c/Kn) )  )\n",
    "    \n",
    "    return C\n",
    "\n",
    "def calcKn(lm, Dp):\n",
    "    \"\"\"\n",
    "    Returns the Knudsen Number (Kim et al., 2005)\n",
    "    \n",
    "    Parameters\n",
    "    ----------\n",
    "    lm : float\n",
    "        gas mean free path (nm / m)\n",
    "        \n",
    "    Dp : paticle diameter (nm / m)\n",
    "        \n",
    "    Returns\n",
    "    -------\n",
    "    Kn : float\n",
    "        Knudsen Number\n",
    "    \"\"\"\n",
    "    \n",
    "    Kn = (2*lm) / Dp\n",
    "    \n",
    "    return Kn\n"
   ]
  },
  {
   "cell_type": "code",
   "execution_count": 4,
   "metadata": {},
   "outputs": [
    {
     "data": {
      "application/vnd.jupyter.widget-view+json": {
       "model_id": "a9f2db6afea4491cbd7ddbd41429d21e",
       "version_major": 2,
       "version_minor": 0
      },
      "text/plain": [
       "Button(description='Reset values', style=ButtonStyle())"
      ]
     },
     "metadata": {},
     "output_type": "display_data"
    }
   ],
   "source": [
    "#######################################\n",
    "#             Interactively           #\n",
    "#######################################\n",
    "\n",
    "def run_all(ev):\n",
    "    display(Javascript('IPython.notebook.execute_cells_below()'))\n",
    "    \n",
    "button = widgets.Button(description=\"Reset values\")\n",
    "button.on_click(run_all)\n",
    "display(button)"
   ]
  },
  {
   "cell_type": "code",
   "execution_count": 5,
   "metadata": {},
   "outputs": [
    {
     "data": {
      "application/vnd.jupyter.widget-view+json": {
       "model_id": "c180a409393f48f7aaede531cc6997d7",
       "version_major": 2,
       "version_minor": 0
      },
      "text/plain": [
       "HBox(children=(VBox(children=(BoundedFloatText(value=1.84341e-05, continuous_update=True, description='Gas vis…"
      ]
     },
     "metadata": {},
     "output_type": "display_data"
    }
   ],
   "source": [
    "#######################################\n",
    "#             Inputs                  #\n",
    "#######################################\n",
    "\n",
    "n = widgets.BoundedFloatText( value=1.84341 * 10**-5, min=1.83000*10**-5,max=1.86001*10**-4,step=1.*10**-10,\n",
    "                               description='Gas viscosity $Pa.s$ or $g/(cm.s)$:', style = {'description_width': 'initial'}, disabled=False, \n",
    "                               continuous_update=True, orientation='horizontal', readout=True, readout_format='.8f', \n",
    "                               tooltip = ('Reference gas viscosity'))\n",
    "\n",
    "unitselect_n = widgets.ToggleButtons(options=['Pa-s', 'g/(cm-s)'], description='Gas viscosity units:', disabled=False,\n",
    "                                     style =  {'description_width': 'initial'}, tooltips=['Pa-s units','g/(cm-s) units'])\n",
    "\n",
    "W = widgets.BoundedFloatText( value=0.0508, min=0.0457, max=0.7, step=0.0001, description='Nozzle diameter $cm$:', \n",
    "                             style = {'description_width': 'initial'}, disabled=False, continuous_update=True, orientation='horizontal', readout=True,\n",
    "                             readout_format='.4f', tooltip = ('Diameter of aerosol inlet'))\n",
    "\n",
    "RhoP = widgets.BoundedFloatText( value=1.0000, min=0, max=1.5,step=0.1, description='Particle Density $g/cm3$:', style = {'description_width': 'initial'},\n",
    "                                disabled=False, continuous_update=True, orientation='horizontal', readout=True, readout_format='.1f', \n",
    "                                tooltip = ('Particle density'))\n",
    "\n",
    "Q = widgets.BoundedFloatText( value=0.373, min=0, max=6.5, step=.001, description='Aerosol Flow Rate $L/min$ or $cm3/s$:', \n",
    "                             style = {'description_width': 'initial'}, disabled=False, continuous_update=True, orientation='horizontal', readout=True,\n",
    "                             readout_format='.3f', tooltip = ('Aerosol volumetric flow rate'))\n",
    "\n",
    "unitselect_flowrate =  widgets.ToggleButtons(options=['L/min', 'cm3/s'], description='volumetric flow rate:', disabled=False, \n",
    "                                             style =  {'description_width': 'initial'}, tooltips=['L/min units','cm3/s units'])\n",
    "\n",
    "lm = widgets.BoundedFloatText( value=69.06, min=67.000, max=70.000, step=0.001, description='mean free path $nm$:', \n",
    "                              style = {'description_width': 'initial'}, disabled=False, continuous_update=True, orientation='horizontal', readout=True,\n",
    "                              readout_format='.2f', tooltip = ('Mean free path'))\n",
    "\n",
    "Dp = widgets.BoundedFloatText( value=749.9, min=4.37, max=10000, step=0.1, description='Particle diameter $nm$:',style = {'description_width': 'initial'},\n",
    "                              disabled=False, continuous_update=True, orientation='horizontal', readout=True, readout_format='.1f', \n",
    "                              tooltip = ('Particle diameter'))\n",
    "\n",
    "\n",
    "#######################################\n",
    "#             Outputs                 #\n",
    "#######################################\n",
    "\n",
    "def showKnC(lm:lm, Dp:Dp, tprint = True):\n",
    "    Kncalc = calcKn(lm, Dp)\n",
    "    Ccalc = calcC(Kncalc)\n",
    "    if tprint:\n",
    "        print( ('Knudsen number: ' + '%.9f')%(Kncalc) )\n",
    "        print( ('Cunningham Slip Correction: ' + '%.9f')%(Ccalc) )\n",
    "    return Kncalc, Ccalc\n",
    "\n",
    "def showD50(lm, Dp, RhoP, Q, n, W, nselect, fselect):\n",
    "    Kncalc = calcKn(lm, Dp)\n",
    "    C = calcC(Kncalc)\n",
    "    if nselect == 'Pa-s':\n",
    "        n = n*10\n",
    "    if fselect == 'L/min':\n",
    "        Q = Q*1000/60\n",
    "    calcD50 = D50(n, W, RhoP, Q, C, Stk50 = 0.23)* 10**7\n",
    "    print( ('D50 (nm): ' + '%.9f')%(calcD50) )\n",
    "\n",
    "outs1 =  widgets.interactive_output(showKnC,{'lm': lm, 'Dp': Dp} )\n",
    "outs2 =  widgets.interactive_output(showD50,{'lm':lm,'Dp':Dp, 'RhoP':RhoP,'Q':Q,'n':n,'W':W,'nselect':unitselect_n, 'fselect':unitselect_flowrate} )\n",
    "\n",
    "#######################################\n",
    "#             Widgets                 #\n",
    "#######################################\n",
    "\n",
    "\n",
    "ui = widgets.VBox([n, unitselect_n, W, RhoP, Q, unitselect_flowrate, lm, Dp])\n",
    "ui2 = widgets.VBox([outs1,outs2])\n",
    "\n",
    "uif = widgets.HBox([ui, ui2])\n",
    "\n",
    "display(uif)\n"
   ]
  },
  {
   "cell_type": "code",
   "execution_count": null,
   "metadata": {},
   "outputs": [],
   "source": []
  }
 ],
 "metadata": {
  "kernelspec": {
   "display_name": "Python 3",
   "language": "python",
   "name": "python3"
  },
  "language_info": {
   "codemirror_mode": {
    "name": "ipython",
    "version": 3
   },
   "file_extension": ".py",
   "mimetype": "text/x-python",
   "name": "python",
   "nbconvert_exporter": "python",
   "pygments_lexer": "ipython3",
   "version": "3.7.7"
  }
 },
 "nbformat": 4,
 "nbformat_minor": 4
}
