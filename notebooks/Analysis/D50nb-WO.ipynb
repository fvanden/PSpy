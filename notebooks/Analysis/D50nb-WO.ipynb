{
 "cells": [
  {
   "cell_type": "code",
   "execution_count": 1,
   "metadata": {},
   "outputs": [
    {
     "data": {
      "application/javascript": [
       "IPython.notebook.execute_cells_below()"
      ],
      "text/plain": [
       "<IPython.core.display.Javascript object>"
      ]
     },
     "metadata": {},
     "output_type": "display_data"
    }
   ],
   "source": [
    "from IPython.display import Image, display, Math, Latex, HTML, Javascript\n",
    "from ipywidgets import widgets, interact, Layout, interactive \n",
    "import numpy as np\n",
    "import math\n",
    "import os\n",
    "import matplotlib.pyplot as plt\n",
    "\n",
    "# set correct paths\n",
    "\n",
    "if os.getcwd().split('/')[-1] == 'PSpy':\n",
    "    pass\n",
    "else:\n",
    "    paths = os.getcwd().split('/')[:-2]\n",
    "    newpath = '/' + os.path.join(*paths)+ '/'\n",
    "    os.chdir(newpath)\n",
    "\n",
    "from mypysmps.io.read import read # import module"
   ]
  },
  {
   "cell_type": "code",
   "execution_count": 2,
   "metadata": {},
   "outputs": [
    {
     "data": {
      "text/html": [
       "<script>\n",
       "code_show=true; \n",
       "function code_toggle() {\n",
       " if (code_show){\n",
       " $('div.input').hide();\n",
       " } else {\n",
       " $('div.input').show();\n",
       " }\n",
       " code_show = !code_show\n",
       "} \n",
       "$( document ).ready(code_toggle);\n",
       "</script>\n",
       "<form action=\"javascript:code_toggle()\"><input type=\"submit\" value=\"Click here to toggle on/off the raw code.\"></form>"
      ],
      "text/plain": [
       "<IPython.core.display.HTML object>"
      ]
     },
     "execution_count": 2,
     "metadata": {},
     "output_type": "execute_result"
    }
   ],
   "source": [
    "HTML('''<script>\n",
    "code_show=true; \n",
    "function code_toggle() {\n",
    " if (code_show){\n",
    " $('div.input').hide();\n",
    " } else {\n",
    " $('div.input').show();\n",
    " }\n",
    " code_show = !code_show\n",
    "} \n",
    "$( document ).ready(code_toggle);\n",
    "</script>\n",
    "<form action=\"javascript:code_toggle()\"><input type=\"submit\" value=\"Click here to toggle on/off the raw code.\"></form>''')"
   ]
  },
  {
   "cell_type": "code",
   "execution_count": 3,
   "metadata": {},
   "outputs": [],
   "source": [
    "#######################################\n",
    "#        Functions                    #\n",
    "#######################################\n",
    "\n",
    "def D50(n, W, RhoP, Q, C, Stk50 = 0.23):\n",
    "    \"\"\"\n",
    "    Returns the cut point diameter D50\n",
    "    \n",
    "    Parameters\n",
    "    ----------\n",
    "    n : float\n",
    "        gas viscosity (g/(cm·s))\n",
    "        \n",
    "    W : float\n",
    "        nozzle diameter (cm)\n",
    "        \n",
    "    RhoP : float\n",
    "        particle density (g/cm3)\n",
    "        \n",
    "    C : float\n",
    "        Cunningham Slip Correction\n",
    "        \n",
    "    Q : float\n",
    "        volumetric flow rate (cm3/s)\n",
    "    \n",
    "    Stk50 : float\n",
    "        Stokes number for 50% collection efficiency\n",
    "        default is 0.23\n",
    "        \n",
    "    Returns\n",
    "    -------\n",
    "    D50 : float\n",
    "        cut point diameter\n",
    "    \"\"\"\n",
    "    D50 = np.sqrt( (9*np.pi*Stk50*n*W**3)/(4*RhoP*C*Q))\n",
    "    \n",
    "    return D50\n",
    "\n",
    "def calcC(Kn, a = 1.165, b = 0.483, c = 0.997):\n",
    "    \"\"\"\n",
    "    Returns the Cunningham Slip Correction C\n",
    "    \n",
    "    Parameters\n",
    "    ----------\n",
    "    Kn : float\n",
    "        Knudsen Number (Kim et al., 2005)\n",
    "        \n",
    "    a : float\n",
    "        fixed value\n",
    "        \n",
    "    b : float\n",
    "        fixed value\n",
    "    \n",
    "    c : float\n",
    "        fixed value\n",
    "        \n",
    "    Returns\n",
    "    -------\n",
    "    C : float\n",
    "        Cunningham Slip Correction\n",
    "    \n",
    "    \"\"\"\n",
    "    C = 1 + Kn*( a + b * np.exp( - (c/Kn) )  )\n",
    "    \n",
    "    return C\n",
    "\n",
    "def calcKn(lm, Dp):\n",
    "    \"\"\"\n",
    "    Returns the Knudsen Number (Kim et al., 2005)\n",
    "    \n",
    "    Parameters\n",
    "    ----------\n",
    "    lm : float\n",
    "        gas mean free path (nm / m)\n",
    "        \n",
    "    Dp : paticle diameter (nm / m)\n",
    "        \n",
    "    Returns\n",
    "    -------\n",
    "    Kn : float\n",
    "        Knudsen Number\n",
    "    \"\"\"\n",
    "    \n",
    "    Kn = (2*lm) / Dp\n",
    "    \n",
    "    return Kn\n"
   ]
  },
  {
   "cell_type": "code",
   "execution_count": 4,
   "metadata": {},
   "outputs": [
    {
     "data": {
      "application/vnd.jupyter.widget-view+json": {
       "model_id": "d700a21424b8414bb677e779d9b51ebd",
       "version_major": 2,
       "version_minor": 0
      },
      "text/plain": [
       "Button(description='Reset values', style=ButtonStyle())"
      ]
     },
     "metadata": {},
     "output_type": "display_data"
    }
   ],
   "source": [
    "#######################################\n",
    "#             Interactively           #\n",
    "#######################################\n",
    "\n",
    "def run_all(ev):\n",
    "    display(Javascript('IPython.notebook.execute_cells_below()'))\n",
    "    \n",
    "button = widgets.Button(description=\"Reset values\")\n",
    "button.on_click(run_all)\n",
    "display(button)"
   ]
  },
  {
   "cell_type": "code",
   "execution_count": 5,
   "metadata": {},
   "outputs": [
    {
     "data": {
      "application/vnd.jupyter.widget-view+json": {
       "model_id": "1dc48422a634489cbd8c70741ad64848",
       "version_major": 2,
       "version_minor": 0
      },
      "text/plain": [
       "HBox(children=(VBox(children=(BoundedFloatText(value=1.84341e-05, continuous_update=True, description='Gas vis…"
      ]
     },
     "metadata": {},
     "output_type": "display_data"
    }
   ],
   "source": [
    "#######################################\n",
    "#             Inputs                  #\n",
    "#######################################\n",
    "\n",
    "n = widgets.BoundedFloatText( value=1.84341 * 10**-5, min=1.83000*10**-5,max=1.86001*10**-4,step=1.*10**-10,\n",
    "                               description='Gas viscosity $Pa.s$ or $g/(cm.s)$:', style = {'description_width': 'initial'}, disabled=False, \n",
    "                               continuous_update=True, orientation='horizontal', readout=True, readout_format='.8f', \n",
    "                               tooltip = ('Reference gas viscosity'))\n",
    "\n",
    "unitselect_n = widgets.ToggleButtons(options=['Pa-s', 'g/(cm-s)'], description='Gas viscosity units:', disabled=False,\n",
    "                                     style =  {'description_width': 'initial'}, tooltips=['Pa-s units','g/(cm-s) units'])\n",
    "\n",
    "W = widgets.BoundedFloatText( value=0.0508, min=0.0457, max=0.7, step=0.0001, description='Nozzle diameter $cm$:', \n",
    "                             style = {'description_width': 'initial'}, disabled=False, continuous_update=True, orientation='horizontal', readout=True,\n",
    "                             readout_format='.4f', tooltip = ('Diameter of aerosol inlet'))\n",
    "\n",
    "RhoP = widgets.BoundedFloatText( value=1.0000, min=0, max=1.5,step=0.1, description='Particle Density $g/cm3$:', style = {'description_width': 'initial'},\n",
    "                                disabled=False, continuous_update=True, orientation='horizontal', readout=True, readout_format='.1f', \n",
    "                                tooltip = ('Particle density'))\n",
    "\n",
    "Q = widgets.BoundedFloatText( value=0.373, min=0, max=6.5, step=.001, description='Aerosol Flow Rate $L/min$ or $cm3/s$:', \n",
    "                             style = {'description_width': 'initial'}, disabled=False, continuous_update=True, orientation='horizontal', readout=True,\n",
    "                             readout_format='.3f', tooltip = ('Aerosol volumetric flow rate'))\n",
    "\n",
    "unitselect_flowrate =  widgets.ToggleButtons(options=['L/min', 'cm3/s'], description='volumetric flow rate:', disabled=False, \n",
    "                                             style =  {'description_width': 'initial'}, tooltips=['L/min units','cm3/s units'])\n",
    "\n",
    "lm = widgets.BoundedFloatText( value=69.06, min=67.000, max=70.000, step=0.001, description='mean free path $nm$:', \n",
    "                              style = {'description_width': 'initial'}, disabled=False, continuous_update=True, orientation='horizontal', readout=True,\n",
    "                              readout_format='.2f', tooltip = ('Mean free path'))\n",
    "\n",
    "Dp = widgets.BoundedFloatText( value=749.9, min=4.37, max=10000, step=0.1, description='Particle diameter $nm$:',style = {'description_width': 'initial'},\n",
    "                              disabled=False, continuous_update=True, orientation='horizontal', readout=True, readout_format='.1f', \n",
    "                              tooltip = ('Particle diameter'))\n",
    "\n",
    "\n",
    "#######################################\n",
    "#             Outputs                 #\n",
    "#######################################\n",
    "\n",
    "def showKnC(lm:lm, Dp:Dp, tprint = True):\n",
    "    Kncalc = calcKn(lm, Dp)\n",
    "    Ccalc = calcC(Kncalc)\n",
    "    if tprint:\n",
    "        print( ('Knudsen number: ' + '%.9f')%(Kncalc) )\n",
    "        print( ('Cunningham Slip Correction: ' + '%.9f')%(Ccalc) )\n",
    "    return Kncalc, Ccalc\n",
    "\n",
    "def showD50(lm, Dp, RhoP, Q, n, W, nselect, fselect):\n",
    "    Kncalc = calcKn(lm, Dp)\n",
    "    C = calcC(Kncalc)\n",
    "    if nselect == 'Pa-s':\n",
    "        n = n*10\n",
    "    if fselect == 'L/min':\n",
    "        Q = Q*1000/60\n",
    "    calcD50 = D50(n, W, RhoP, Q, C, Stk50 = 0.23)* 10**7\n",
    "    print( ('D50 (nm): ' + '%.9f')%(calcD50) )\n",
    "\n",
    "outs1 =  widgets.interactive_output(showKnC,{'lm': lm, 'Dp': Dp} )\n",
    "outs2 =  widgets.interactive_output(showD50,{'lm':lm,'Dp':Dp, 'RhoP':RhoP,'Q':Q,'n':n,'W':W,'nselect':unitselect_n, 'fselect':unitselect_flowrate} )\n",
    "\n",
    "#######################################\n",
    "#             Widgets                 #\n",
    "#######################################\n",
    "\n",
    "\n",
    "ui = widgets.VBox([n, unitselect_n, W, RhoP, Q, unitselect_flowrate, lm, Dp])\n",
    "ui2 = widgets.VBox([outs1,outs2])\n",
    "\n",
    "uif = widgets.HBox([ui, ui2])\n",
    "\n",
    "display(uif)\n"
   ]
  },
  {
   "cell_type": "code",
   "execution_count": null,
   "metadata": {},
   "outputs": [],
   "source": []
  }
 ],
 "metadata": {
  "kernelspec": {
   "display_name": "Python 3",
   "language": "python",
   "name": "python3"
  },
  "language_info": {
   "codemirror_mode": {
    "name": "ipython",
    "version": 3
   },
   "file_extension": ".py",
   "mimetype": "text/x-python",
   "name": "python",
   "nbconvert_exporter": "python",
   "pygments_lexer": "ipython3",
   "version": "3.7.7"
  },
  "widgets": {
   "application/vnd.jupyter.widget-state+json": {
    "state": {
     "03fda9b8117a4334b503c7b86f19a728": {
      "model_module": "@jupyter-widgets/controls",
      "model_module_version": "1.5.0",
      "model_name": "ToggleButtonsStyleModel",
      "state": {
       "button_width": "",
       "description_width": "initial"
      }
     },
     "0c6e7d92435644b5af9f01732dea2a6a": {
      "model_module": "@jupyter-widgets/controls",
      "model_module_version": "1.5.0",
      "model_name": "BoundedFloatTextModel",
      "state": {
       "continuous_update": true,
       "description": "Gas viscosity $Pa.s$ or $g/(cm.s)$:",
       "layout": "IPY_MODEL_0eb8963efe3a438ea01d99e7b7552fdb",
       "max": 0.000186001,
       "min": 1.83e-05,
       "step": 1e-10,
       "style": "IPY_MODEL_11fb89e2ad9b426da62826db16adfccb",
       "value": 1.84341e-05
      }
     },
     "0d68f11ac9d243a7b28581b6e84c661e": {
      "model_module": "@jupyter-widgets/controls",
      "model_module_version": "1.5.0",
      "model_name": "BoundedFloatTextModel",
      "state": {
       "continuous_update": true,
       "description": "Particle Density $g/cm3$:",
       "layout": "IPY_MODEL_25a2aa60851d465c98b33855c71ef8ba",
       "max": 1.5,
       "style": "IPY_MODEL_ece1835972454717a3d56a80992f7664",
       "value": 1
      }
     },
     "0eb8963efe3a438ea01d99e7b7552fdb": {
      "model_module": "@jupyter-widgets/base",
      "model_module_version": "1.2.0",
      "model_name": "LayoutModel",
      "state": {}
     },
     "0f4b15bf65c84325984f8fe1bce7f2d1": {
      "model_module": "@jupyter-widgets/base",
      "model_module_version": "1.2.0",
      "model_name": "LayoutModel",
      "state": {}
     },
     "11fb89e2ad9b426da62826db16adfccb": {
      "model_module": "@jupyter-widgets/controls",
      "model_module_version": "1.5.0",
      "model_name": "DescriptionStyleModel",
      "state": {
       "description_width": "initial"
      }
     },
     "1b2a3b6b026544e2adf198dca5ab86ba": {
      "model_module": "@jupyter-widgets/controls",
      "model_module_version": "1.5.0",
      "model_name": "ToggleButtonsModel",
      "state": {
       "_options_labels": [
        "Pa-s",
        "g/(cm-s)"
       ],
       "button_style": "",
       "description": "Gas viscosity units:",
       "icons": [],
       "index": 0,
       "layout": "IPY_MODEL_57066ae7bf4541deaa919edce9eb8b2a",
       "style": "IPY_MODEL_03fda9b8117a4334b503c7b86f19a728",
       "tooltips": [
        "Pa-s units",
        "g/(cm-s) units"
       ]
      }
     },
     "1dc48422a634489cbd8c70741ad64848": {
      "model_module": "@jupyter-widgets/controls",
      "model_module_version": "1.5.0",
      "model_name": "HBoxModel",
      "state": {
       "children": [
        "IPY_MODEL_751792e3ad284cfaa6c53054b246e287",
        "IPY_MODEL_5d48dd242bd74412afbc4c97336fc611"
       ],
       "layout": "IPY_MODEL_c6f80b056dd44a218eff305e1580c4db"
      }
     },
     "1fb333a831b0438c8305c1901e6a3879": {
      "model_module": "@jupyter-widgets/controls",
      "model_module_version": "1.5.0",
      "model_name": "DescriptionStyleModel",
      "state": {
       "description_width": "initial"
      }
     },
     "25a2aa60851d465c98b33855c71ef8ba": {
      "model_module": "@jupyter-widgets/base",
      "model_module_version": "1.2.0",
      "model_name": "LayoutModel",
      "state": {}
     },
     "33b92572251a4fe9855002d43d6d8af3": {
      "model_module": "@jupyter-widgets/controls",
      "model_module_version": "1.5.0",
      "model_name": "BoundedFloatTextModel",
      "state": {
       "continuous_update": true,
       "description": "mean free path $nm$:",
       "layout": "IPY_MODEL_f2615f6cfb0744ffad636bdc16c0ab66",
       "max": 70,
       "min": 67,
       "step": 0.001,
       "style": "IPY_MODEL_a78163be35864f80b9eca020d233104a",
       "value": 69.06
      }
     },
     "3c8378df8cc94abfb5db4b1bbbe8e6c5": {
      "model_module": "@jupyter-widgets/base",
      "model_module_version": "1.2.0",
      "model_name": "LayoutModel",
      "state": {}
     },
     "4cc9c80a10684056a5697a6c683fb6db": {
      "model_module": "@jupyter-widgets/controls",
      "model_module_version": "1.5.0",
      "model_name": "BoundedFloatTextModel",
      "state": {
       "continuous_update": true,
       "description": "Nozzle diameter $cm$:",
       "layout": "IPY_MODEL_0f4b15bf65c84325984f8fe1bce7f2d1",
       "max": 0.7,
       "min": 0.0457,
       "step": 0.0001,
       "style": "IPY_MODEL_1fb333a831b0438c8305c1901e6a3879",
       "value": 0.0508
      }
     },
     "54a26aae801d489fb9c56b41768c4226": {
      "model_module": "@jupyter-widgets/base",
      "model_module_version": "1.2.0",
      "model_name": "LayoutModel",
      "state": {}
     },
     "57066ae7bf4541deaa919edce9eb8b2a": {
      "model_module": "@jupyter-widgets/base",
      "model_module_version": "1.2.0",
      "model_name": "LayoutModel",
      "state": {}
     },
     "5d48dd242bd74412afbc4c97336fc611": {
      "model_module": "@jupyter-widgets/controls",
      "model_module_version": "1.5.0",
      "model_name": "VBoxModel",
      "state": {
       "children": [
        "IPY_MODEL_8769266bfe434264ad10506c4ad3bf3c",
        "IPY_MODEL_5e73378d28db44ffa9dc263c45c3e4b3"
       ],
       "layout": "IPY_MODEL_c926b4bb8750437ba508a8a43ce218eb"
      }
     },
     "5e73378d28db44ffa9dc263c45c3e4b3": {
      "model_module": "@jupyter-widgets/output",
      "model_module_version": "1.0.0",
      "model_name": "OutputModel",
      "state": {
       "layout": "IPY_MODEL_a41388db4de44d37a62b9d1e411a3340",
       "outputs": [
        {
         "name": "stdout",
         "output_type": "stream",
         "text": "D50 (nm): 721.231684070\n"
        }
       ]
      }
     },
     "751792e3ad284cfaa6c53054b246e287": {
      "model_module": "@jupyter-widgets/controls",
      "model_module_version": "1.5.0",
      "model_name": "VBoxModel",
      "state": {
       "children": [
        "IPY_MODEL_0c6e7d92435644b5af9f01732dea2a6a",
        "IPY_MODEL_1b2a3b6b026544e2adf198dca5ab86ba",
        "IPY_MODEL_4cc9c80a10684056a5697a6c683fb6db",
        "IPY_MODEL_0d68f11ac9d243a7b28581b6e84c661e",
        "IPY_MODEL_d6d3462194944b18bc115be3a3533f1e",
        "IPY_MODEL_b24cd175f56d47c287608bb085efe1a4",
        "IPY_MODEL_33b92572251a4fe9855002d43d6d8af3",
        "IPY_MODEL_f1c01a23a42d487da28b5c426183d982"
       ],
       "layout": "IPY_MODEL_54a26aae801d489fb9c56b41768c4226"
      }
     },
     "8769266bfe434264ad10506c4ad3bf3c": {
      "model_module": "@jupyter-widgets/output",
      "model_module_version": "1.0.0",
      "model_name": "OutputModel",
      "state": {
       "layout": "IPY_MODEL_f457e64f786e4811b8b39fe7b2d62685",
       "outputs": [
        {
         "name": "stdout",
         "output_type": "stream",
         "text": "Knudsen number: 0.184184558\nCunningham Slip Correction: 1.214971601\n"
        }
       ]
      }
     },
     "a41388db4de44d37a62b9d1e411a3340": {
      "model_module": "@jupyter-widgets/base",
      "model_module_version": "1.2.0",
      "model_name": "LayoutModel",
      "state": {}
     },
     "a5931d013a9c40a7aa72d6cd402be39e": {
      "model_module": "@jupyter-widgets/base",
      "model_module_version": "1.2.0",
      "model_name": "LayoutModel",
      "state": {}
     },
     "a78163be35864f80b9eca020d233104a": {
      "model_module": "@jupyter-widgets/controls",
      "model_module_version": "1.5.0",
      "model_name": "DescriptionStyleModel",
      "state": {
       "description_width": "initial"
      }
     },
     "b24cd175f56d47c287608bb085efe1a4": {
      "model_module": "@jupyter-widgets/controls",
      "model_module_version": "1.5.0",
      "model_name": "ToggleButtonsModel",
      "state": {
       "_options_labels": [
        "L/min",
        "cm3/s"
       ],
       "button_style": "",
       "description": "volumetric flow rate:",
       "icons": [],
       "index": 0,
       "layout": "IPY_MODEL_a5931d013a9c40a7aa72d6cd402be39e",
       "style": "IPY_MODEL_ee190fd097324b9da5d92419fd2b1e8c",
       "tooltips": [
        "L/min units",
        "cm3/s units"
       ]
      }
     },
     "c6f80b056dd44a218eff305e1580c4db": {
      "model_module": "@jupyter-widgets/base",
      "model_module_version": "1.2.0",
      "model_name": "LayoutModel",
      "state": {}
     },
     "c926b4bb8750437ba508a8a43ce218eb": {
      "model_module": "@jupyter-widgets/base",
      "model_module_version": "1.2.0",
      "model_name": "LayoutModel",
      "state": {}
     },
     "ce8488f574e8470387f5e5d5b45ca439": {
      "model_module": "@jupyter-widgets/base",
      "model_module_version": "1.2.0",
      "model_name": "LayoutModel",
      "state": {}
     },
     "d37fb50ecb6d49d4862e9db2555d46b5": {
      "model_module": "@jupyter-widgets/controls",
      "model_module_version": "1.5.0",
      "model_name": "ButtonStyleModel",
      "state": {}
     },
     "d6d3462194944b18bc115be3a3533f1e": {
      "model_module": "@jupyter-widgets/controls",
      "model_module_version": "1.5.0",
      "model_name": "BoundedFloatTextModel",
      "state": {
       "continuous_update": true,
       "description": "Aerosol Flow Rate $L/min$ or $cm3/s$:",
       "layout": "IPY_MODEL_3c8378df8cc94abfb5db4b1bbbe8e6c5",
       "max": 6.5,
       "step": 0.001,
       "style": "IPY_MODEL_e17cf7a701d04d7395e295295dcf6106",
       "value": 0.373
      }
     },
     "d700a21424b8414bb677e779d9b51ebd": {
      "model_module": "@jupyter-widgets/controls",
      "model_module_version": "1.5.0",
      "model_name": "ButtonModel",
      "state": {
       "description": "Reset values",
       "layout": "IPY_MODEL_e0b626bba5d64ecc8403d8fc00eddb5a",
       "style": "IPY_MODEL_d37fb50ecb6d49d4862e9db2555d46b5"
      }
     },
     "e0b626bba5d64ecc8403d8fc00eddb5a": {
      "model_module": "@jupyter-widgets/base",
      "model_module_version": "1.2.0",
      "model_name": "LayoutModel",
      "state": {}
     },
     "e17cf7a701d04d7395e295295dcf6106": {
      "model_module": "@jupyter-widgets/controls",
      "model_module_version": "1.5.0",
      "model_name": "DescriptionStyleModel",
      "state": {
       "description_width": "initial"
      }
     },
     "e247e804530c4342b730689465b6f50a": {
      "model_module": "@jupyter-widgets/controls",
      "model_module_version": "1.5.0",
      "model_name": "DescriptionStyleModel",
      "state": {
       "description_width": "initial"
      }
     },
     "ece1835972454717a3d56a80992f7664": {
      "model_module": "@jupyter-widgets/controls",
      "model_module_version": "1.5.0",
      "model_name": "DescriptionStyleModel",
      "state": {
       "description_width": "initial"
      }
     },
     "ee190fd097324b9da5d92419fd2b1e8c": {
      "model_module": "@jupyter-widgets/controls",
      "model_module_version": "1.5.0",
      "model_name": "ToggleButtonsStyleModel",
      "state": {
       "button_width": "",
       "description_width": "initial"
      }
     },
     "f1c01a23a42d487da28b5c426183d982": {
      "model_module": "@jupyter-widgets/controls",
      "model_module_version": "1.5.0",
      "model_name": "BoundedFloatTextModel",
      "state": {
       "continuous_update": true,
       "description": "Particle diameter $nm$:",
       "layout": "IPY_MODEL_ce8488f574e8470387f5e5d5b45ca439",
       "max": 10000,
       "min": 4.37,
       "style": "IPY_MODEL_e247e804530c4342b730689465b6f50a",
       "value": 749.9
      }
     },
     "f2615f6cfb0744ffad636bdc16c0ab66": {
      "model_module": "@jupyter-widgets/base",
      "model_module_version": "1.2.0",
      "model_name": "LayoutModel",
      "state": {}
     },
     "f457e64f786e4811b8b39fe7b2d62685": {
      "model_module": "@jupyter-widgets/base",
      "model_module_version": "1.2.0",
      "model_name": "LayoutModel",
      "state": {}
     }
    },
    "version_major": 2,
    "version_minor": 0
   }
  }
 },
 "nbformat": 4,
 "nbformat_minor": 4
}
