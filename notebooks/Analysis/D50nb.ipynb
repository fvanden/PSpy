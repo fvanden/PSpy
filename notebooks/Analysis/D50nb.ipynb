{
 "cells": [
  {
   "cell_type": "code",
   "execution_count": 1,
   "metadata": {},
   "outputs": [],
   "source": [
    "from IPython.display import Image, display, Math, Latex, HTML, Javascript\n",
    "from ipywidgets import widgets, interact, Layout, interactive \n",
    "import numpy as np\n",
    "import math\n",
    "import os\n",
    "import matplotlib.pyplot as plt\n"
   ]
  },
  {
   "cell_type": "code",
   "execution_count": 2,
   "metadata": {},
   "outputs": [],
   "source": [
    "#######################################\n",
    "#        Functions                    #\n",
    "#######################################\n",
    "\n",
    "def D50(n, W, RhoP, Q, C, Stk50 = 0.23):\n",
    "    \"\"\"\n",
    "    Returns the cut point diameter D50\n",
    "    \n",
    "    Parameters\n",
    "    ----------\n",
    "    n : float\n",
    "        gas viscosity (g/(cm·s))\n",
    "        \n",
    "    W : float\n",
    "        nozzle diameter (cm)\n",
    "        \n",
    "    RhoP : float\n",
    "        particle density (g/cm3)\n",
    "        \n",
    "    C : float\n",
    "        Cunningham Slip Correction\n",
    "        \n",
    "    Q : float\n",
    "        volumetric flow rate (cm3/s)\n",
    "    \n",
    "    Stk50 : float\n",
    "        Stokes number for 50% collection efficiency\n",
    "        default is 0.23\n",
    "        \n",
    "    Returns\n",
    "    -------\n",
    "    D50 : float\n",
    "        cut point diameter\n",
    "    \"\"\"\n",
    "    D50 = np.sqrt( (9*np.pi*Stk50*n*W**3)/(4*RhoP*C*Q))\n",
    "    \n",
    "    return D50\n",
    "\n",
    "def calcC(Kn, a = 1.165, b = 0.483, c = 0.997):\n",
    "    \"\"\"\n",
    "    Returns the Cunningham Slip Correction C\n",
    "    \n",
    "    Parameters\n",
    "    ----------\n",
    "    Kn : float\n",
    "        Knudsen Number (Kim et al., 2005)\n",
    "        \n",
    "    a : float\n",
    "        fixed value\n",
    "        \n",
    "    b : float\n",
    "        fixed value\n",
    "    \n",
    "    c : float\n",
    "        fixed value\n",
    "        \n",
    "    Returns\n",
    "    -------\n",
    "    C : float\n",
    "        Cunningham Slip Correction\n",
    "    \n",
    "    \"\"\"\n",
    "    C = 1 + Kn*( a + b * np.exp( - (c/Kn) )  )\n",
    "    \n",
    "    return C\n",
    "\n",
    "def calcKn(lm, Dp):\n",
    "    \"\"\"\n",
    "    Returns the Knudsen Number (Kim et al., 2005)\n",
    "    \n",
    "    Parameters\n",
    "    ----------\n",
    "    lm : float\n",
    "        gas mean free path (nm / m)\n",
    "        \n",
    "    Dp : paticle diameter (nm / m)\n",
    "        \n",
    "    Returns\n",
    "    -------\n",
    "    Kn : float\n",
    "        Knudsen Number\n",
    "    \"\"\"\n",
    "    \n",
    "    Kn = (2*lm) / Dp\n",
    "    \n",
    "    return Kn\n"
   ]
  },
  {
   "cell_type": "code",
   "execution_count": 51,
   "metadata": {},
   "outputs": [
    {
     "name": "stdout",
     "output_type": "stream",
     "text": [
      "Knudsen number: 0.184\n",
      "Cunningham Slip Correction: 1.215\n",
      "D50 (nm): 721.2 \n"
     ]
    }
   ],
   "source": [
    "#######################################\n",
    "#             Example                 #\n",
    "#######################################\n",
    "n = 1.84341 * 10**-4 # gas viscosity g/(cm s)\n",
    "W = 0.0508 # impactor diameter (cm)\n",
    "RhoP = 1.0 # particle density (g / cm^3)\n",
    "Q =  6.217 # volumetric flow rate (cm^3/s) 6.217\n",
    "lm = 69.06 # gas mean free path (nm, cm, m) -- as long as it's consistent with Dp\n",
    "Dp = 749.9 # particle diameter (nm, cm, m) -- as long as it's consistent with lm\n",
    "\n",
    "def calcD50(n, W, RhoP, Q, lm, Dp):\n",
    "    Kn = calcKn(lm, Dp)\n",
    "    try:\n",
    "        print(\"Knudsen number: %.3f\" %Kn)\n",
    "    except TypeError:\n",
    "        pass\n",
    "    C = calcC(Kn)\n",
    "    try:\n",
    "        print(\"Cunningham Slip Correction: %.3f\" % C)\n",
    "    except TypeError:\n",
    "        pass\n",
    "    try:\n",
    "        outD50 = D50(n, W, RhoP, Q, C, Stk50 = 0.23)\n",
    "    except TypeError:\n",
    "        pass\n",
    "    try:\n",
    "        print( (\"D50 (nm): %.1f\" %(outD50 *10**7)) )\n",
    "    except TypeError:\n",
    "        return outD50\n",
    "    \n",
    "    \n",
    "calcD50(n, W, RhoP, Q, lm, Dp)"
   ]
  },
  {
   "cell_type": "code",
   "execution_count": 95,
   "metadata": {},
   "outputs": [
    {
     "data": {
      "image/png": "[encoded data removed]",
      "text/plain": [
       "<Figure size 432x288 with 1 Axes>"
      ]
     },
     "metadata": {
      "needs_background": "light"
     },
     "output_type": "display_data"
    }
   ],
   "source": [
    "#######################################\n",
    "#             From AIM file           #\n",
    "#######################################\n",
    "\n",
    "from mypysmps.io.read import read # import module\n",
    "\n",
    "# get correct data path\n",
    "paths = os.getcwd().split('/')[:-2]\n",
    "newpath = '/' + os.path.join(*paths)+ '/testdata/'\n",
    "newpath = '/work/aerosol-try/data/testdata/'\n",
    "filename = os.path.join(newpath, 'LongTerm.csv')\n",
    "\n",
    "# read SMPS data\n",
    "SMPS = read(filename)\n",
    "\n",
    "# get / transform relevant variables\n",
    "\n",
    "n = np.asarray(SMPS.viscosity['data']) * 10 # Pa s to g/(cm s)\n",
    "W = float(SMPS.metadata['Impactor (cm)'])\n",
    "RhoP = np.asarray(SMPS.density['data'])\n",
    "Q = np.asarray(SMPS.aerosol_flow['data'])*1000/60 # L/min to cm^3/s\n",
    "lm = np.asarray(SMPS.mean_free_path['data']) * (10**9) # m to nm\n",
    "Dp = np.asarray(SMPS.upper_size['data'])\n",
    "\n",
    "# calculate D50 for all values in file\n",
    "allD50 = calcD50(n, W, RhoP, Q, lm, Dp)*10**7\n",
    "\n",
    "# compare with D50 given in AIM file\n",
    "AIMD50 = SMPS.D50['data']\n",
    "\n",
    "fig, ax = plt.subplots()\n",
    "ax.plot(np.arange(len(allD50)), allD50, color = 'b', label = 'calculated D50')\n",
    "ax.plot(np.arange(len(AIMD50)), AIMD50, color = 'k', label = 'AIM file D50')\n",
    "ax.set_xlabel('Sample #')\n",
    "ax.set_ylabel('D50 (nm)')\n",
    "lgd = ax.legend()\n"
   ]
  },
  {
   "cell_type": "code",
   "execution_count": 94,
   "metadata": {},
   "outputs": [
    {
     "data": {
      "application/javascript": [
       "IPython.notebook.execute_cells_below()"
      ],
      "text/plain": [
       "<IPython.core.display.Javascript object>"
      ]
     },
     "metadata": {},
     "output_type": "display_data"
    }
   ],
   "source": [
    "display(Javascript('IPython.notebook.execute_cells_below()'))"
   ]
  },
  {
   "cell_type": "code",
   "execution_count": 92,
   "metadata": {},
   "outputs": [
    {
     "data": {
      "text/html": [
       "<script>\n",
       "code_show=true; \n",
       "function code_toggle() {\n",
       " if (code_show){\n",
       " $('div.input').hide();\n",
       " } else {\n",
       " $('div.input').show();\n",
       " }\n",
       " code_show = !code_show\n",
       "} \n",
       "$( document ).ready(code_toggle);\n",
       "</script>\n",
       "<form action=\"javascript:code_toggle()\"><input type=\"submit\" value=\"Click here to toggle on/off the raw code.\"></form>"
      ],
      "text/plain": [
       "<IPython.core.display.HTML object>"
      ]
     },
     "execution_count": 92,
     "metadata": {},
     "output_type": "execute_result"
    }
   ],
   "source": [
    "HTML('''<script>\n",
    "code_show=true; \n",
    "function code_toggle() {\n",
    " if (code_show){\n",
    " $('div.input').hide();\n",
    " } else {\n",
    " $('div.input').show();\n",
    " }\n",
    " code_show = !code_show\n",
    "} \n",
    "$( document ).ready(code_toggle);\n",
    "</script>\n",
    "<form action=\"javascript:code_toggle()\"><input type=\"submit\" value=\"Click here to toggle on/off the raw code.\"></form>''')"
   ]
  },
  {
   "cell_type": "code",
   "execution_count": 93,
   "metadata": {},
   "outputs": [
    {
     "data": {
      "application/vnd.jupyter.widget-view+json": {
       "model_id": "8ed0594285d44f47aab07c4b5fb59c02",
       "version_major": 2,
       "version_minor": 0
      },
      "text/plain": [
       "Button(description='Reset values', style=ButtonStyle())"
      ]
     },
     "metadata": {},
     "output_type": "display_data"
    }
   ],
   "source": [
    "#######################################\n",
    "#             Interactively           #\n",
    "#######################################\n",
    "\n",
    "def run_all(ev):\n",
    "    display(Javascript('IPython.notebook.execute_cells_below()'))\n",
    "    \n",
    "button = widgets.Button(description=\"Reset values\")\n",
    "button.on_click(run_all)\n",
    "display(button)"
   ]
  },
  {
   "cell_type": "code",
   "execution_count": 89,
   "metadata": {},
   "outputs": [
    {
     "data": {
      "application/vnd.jupyter.widget-view+json": {
       "model_id": "bbaa18fb613e47deab1e5b721b0b20a4",
       "version_major": 2,
       "version_minor": 0
      },
      "text/plain": [
       "HBox(children=(VBox(children=(BoundedFloatText(value=1.84341e-05, continuous_update=True, description='Gas vis…"
      ]
     },
     "metadata": {},
     "output_type": "display_data"
    }
   ],
   "source": [
    "#######################################\n",
    "#             Inputs                  #\n",
    "#######################################\n",
    "\n",
    "n = widgets.BoundedFloatText( value=1.84341 * 10**-5, min=1.84246*10**-5,max=1.86001*10**-4,step=1.*10**-6,\n",
    "                               description='Gas viscosity $Pa.s$ or $g/(cm.s)$:', style = {'description_width': 'initial'}, disabled=False, \n",
    "                               continuous_update=True, orientation='horizontal', readout=True, readout_format='.8f', \n",
    "                               tooltip = ('Reference gas viscosity'))\n",
    "\n",
    "unitselect_n = widgets.ToggleButtons(options=['Pa-s', 'g/(cm-s)'], description='Gas viscosity units:', disabled=False,\n",
    "                                     style =  {'description_width': 'initial'}, tooltips=['Pa-s units','g/(cm-s) units'])\n",
    "\n",
    "W = widgets.BoundedFloatText( value=0.0508, min=0.0457, max=0.06, step=0.0001, description='Nozzle diameter $cm$:', \n",
    "                             style = {'description_width': 'initial'}, disabled=False, continuous_update=True, orientation='horizontal', readout=True,\n",
    "                             readout_format='.4f', tooltip = ('Diameter of aerosol inlet'))\n",
    "\n",
    "RhoP = widgets.BoundedFloatText( value=1.0000, min=0, max=1.5,step=0.1, description='Particle Density $g/cm3$:', style = {'description_width': 'initial'},\n",
    "                                disabled=False, continuous_update=True, orientation='horizontal', readout=True, readout_format='.1f', \n",
    "                                tooltip = ('Particle density'))\n",
    "\n",
    "Q = widgets.BoundedFloatText( value=0.373, min=0, max=6.5, step=.001, description='Aerosol Flow Rate $L/min$ or $cm3/s$:', \n",
    "                             style = {'description_width': 'initial'}, disabled=False, continuous_update=True, orientation='horizontal', readout=True,\n",
    "                             readout_format='.3f', tooltip = ('Aerosol volumetric flow rate'))\n",
    "\n",
    "unitselect_flowrate =  widgets.ToggleButtons(options=['L/min', 'cm3/s'], description='volumetric flow rate:', disabled=False, \n",
    "                                             style =  {'description_width': 'initial'}, tooltips=['L/min units','cm3/s units'])\n",
    "\n",
    "lm = widgets.BoundedFloatText( value=69.06, min=67.000, max=70.000, step=0.001, description='mean free path $nm$:', \n",
    "                              style = {'description_width': 'initial'}, disabled=False, continuous_update=True, orientation='horizontal', readout=True,\n",
    "                              readout_format='.2f', tooltip = ('Mean free path'))\n",
    "\n",
    "Dp = widgets.BoundedFloatText( value=749.9, min=4.37, max=750, step=0.1, description='Particle diameter $nm$:',style = {'description_width': 'initial'},\n",
    "                              disabled=False, continuous_update=True, orientation='horizontal', readout=True, readout_format='.1f', \n",
    "                              tooltip = ('Particle diameter'))\n",
    "\n",
    "\n",
    "#######################################\n",
    "#             Outputs                 #\n",
    "#######################################\n",
    "\n",
    "def showKnC(lm:lm, Dp:Dp, tprint = True):\n",
    "    Kncalc = calcKn(lm, Dp)\n",
    "    Ccalc = calcC(Kncalc)\n",
    "    if tprint:\n",
    "        print( ('Knudsen number: ' + '%.9f')%(Kncalc) )\n",
    "        print( ('Cunningham Slip Correction: ' + '%.9f')%(Ccalc) )\n",
    "    return Kncalc, Ccalc\n",
    "\n",
    "def showD50(lm, Dp, RhoP, Q, n, W, nselect, fselect):\n",
    "    Kncalc = calcKn(lm, Dp)\n",
    "    C = calcC(Kncalc)\n",
    "    if nselect == 'Pa-s':\n",
    "        n = n*10\n",
    "    if fselect == 'L/min':\n",
    "        Q = Q*1000/60\n",
    "    calcD50 = D50(n, W, RhoP, Q, C, Stk50 = 0.23)* 10**7\n",
    "    print( ('D50 (nm): ' + '%.9f')%(calcD50) )\n",
    "\n",
    "outs1 =  widgets.interactive_output(showKnC,{'lm': lm, 'Dp': Dp} )\n",
    "outs2 =  widgets.interactive_output(showD50,{'lm':lm,'Dp':Dp, 'RhoP':RhoP,'Q':Q,'n':n,'W':W,'nselect':unitselect_n, 'fselect':unitselect_flowrate} )\n",
    "\n",
    "#######################################\n",
    "#             Widgets                 #\n",
    "#######################################\n",
    "\n",
    "\n",
    "ui = widgets.VBox([n, unitselect_n, W, RhoP, Q, unitselect_flowrate, lm, Dp])\n",
    "ui2 = widgets.VBox([outs1,outs2])\n",
    "\n",
    "uif = widgets.HBox([ui, ui2])\n",
    "\n",
    "display(uif)\n"
   ]
  },
  {
   "cell_type": "code",
   "execution_count": null,
   "metadata": {},
   "outputs": [],
   "source": []
  }
 ],
 "metadata": {
  "kernelspec": {
   "display_name": "Python 3",
   "language": "python",
   "name": "python3"
  },
  "language_info": {
   "codemirror_mode": {
    "name": "ipython",
    "version": 3
   },
   "file_extension": ".py",
   "mimetype": "text/x-python",
   "name": "python",
   "nbconvert_exporter": "python",
   "pygments_lexer": "ipython3",
   "version": "3.7.6"
  }
 },
 "nbformat": 4,
 "nbformat_minor": 4
}
