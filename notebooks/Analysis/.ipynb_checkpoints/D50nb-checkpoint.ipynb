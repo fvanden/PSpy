{
 "cells": [
  {
   "cell_type": "code",
   "execution_count": 2,
   "metadata": {},
   "outputs": [
    {
     "ename": "ModuleNotFoundError",
     "evalue": "No module named 'netCDF4'",
     "output_type": "error",
     "traceback": [
      "\u001b[0;31m---------------------------------------------------------------------------\u001b[0m",
      "\u001b[0;31mModuleNotFoundError\u001b[0m                       Traceback (most recent call last)",
      "\u001b[0;32m<ipython-input-2-4b3c75efb17e>\u001b[0m in \u001b[0;36m<module>\u001b[0;34m\u001b[0m\n\u001b[1;32m     15\u001b[0m     \u001b[0mos\u001b[0m\u001b[0;34m.\u001b[0m\u001b[0mchdir\u001b[0m\u001b[0;34m(\u001b[0m\u001b[0mnewpath\u001b[0m\u001b[0;34m)\u001b[0m\u001b[0;34m\u001b[0m\u001b[0;34m\u001b[0m\u001b[0m\n\u001b[1;32m     16\u001b[0m \u001b[0;34m\u001b[0m\u001b[0m\n\u001b[0;32m---> 17\u001b[0;31m \u001b[0;32mfrom\u001b[0m \u001b[0mmypysmps\u001b[0m\u001b[0;34m.\u001b[0m\u001b[0mio\u001b[0m\u001b[0;34m.\u001b[0m\u001b[0mread\u001b[0m \u001b[0;32mimport\u001b[0m \u001b[0mread\u001b[0m \u001b[0;31m# import module\u001b[0m\u001b[0;34m\u001b[0m\u001b[0;34m\u001b[0m\u001b[0m\n\u001b[0m",
      "\u001b[0;32m~/Documents/BAS/Python/PSpy/mypysmps/io/read.py\u001b[0m in \u001b[0;36m<module>\u001b[0;34m\u001b[0m\n\u001b[1;32m      3\u001b[0m \u001b[0;31m#################\u001b[0m\u001b[0;34m\u001b[0m\u001b[0;34m\u001b[0m\u001b[0;34m\u001b[0m\u001b[0m\n\u001b[1;32m      4\u001b[0m \u001b[0;32mimport\u001b[0m \u001b[0mgzip\u001b[0m\u001b[0;34m\u001b[0m\u001b[0;34m\u001b[0m\u001b[0m\n\u001b[0;32m----> 5\u001b[0;31m \u001b[0;32mimport\u001b[0m \u001b[0mnetCDF4\u001b[0m\u001b[0;34m\u001b[0m\u001b[0;34m\u001b[0m\u001b[0m\n\u001b[0m\u001b[1;32m      6\u001b[0m \u001b[0;34m\u001b[0m\u001b[0m\n\u001b[1;32m      7\u001b[0m \u001b[0;32mfrom\u001b[0m \u001b[0;34m.\u001b[0m\u001b[0mcsv_read\u001b[0m \u001b[0;32mimport\u001b[0m \u001b[0mread_aim_csv\u001b[0m\u001b[0;34m\u001b[0m\u001b[0;34m\u001b[0m\u001b[0m\n",
      "\u001b[0;31mModuleNotFoundError\u001b[0m: No module named 'netCDF4'"
     ]
    }
   ],
   "source": [
    "from IPython.display import Image, display, Math, Latex, HTML, Javascript\n",
    "from ipywidgets import widgets, interact, Layout, interactive \n",
    "import numpy as np\n",
    "import math\n",
    "import os\n",
    "import matplotlib.pyplot as plt\n",
    "\n",
    "# set correct paths\n",
    "\n",
    "if os.getcwd().split('/')[-1] == 'PSpy':\n",
    "    pass\n",
    "else:\n",
    "    paths = os.getcwd().split('/')[:-2]\n",
    "    newpath = '/' + os.path.join(*paths)+ '/'\n",
    "    os.chdir(newpath)\n",
    "\n",
    "from mypysmps.io.read import read # import module"
   ]
  },
  {
   "cell_type": "code",
   "execution_count": null,
   "metadata": {},
   "outputs": [],
   "source": [
    "#######################################\n",
    "#        Functions                    #\n",
    "#######################################\n",
    "\n",
    "def D50(n, W, RhoP, Q, C, Stk50 = 0.23):\n",
    "    \"\"\"\n",
    "    Returns the cut point diameter D50\n",
    "    \n",
    "    Parameters\n",
    "    ----------\n",
    "    n : float\n",
    "        gas viscosity (g/(cm·s))\n",
    "        \n",
    "    W : float\n",
    "        nozzle diameter (cm)\n",
    "        \n",
    "    RhoP : float\n",
    "        particle density (g/cm3)\n",
    "        \n",
    "    C : float\n",
    "        Cunningham Slip Correction\n",
    "        \n",
    "    Q : float\n",
    "        volumetric flow rate (cm3/s)\n",
    "    \n",
    "    Stk50 : float\n",
    "        Stokes number for 50% collection efficiency\n",
    "        default is 0.23\n",
    "        \n",
    "    Returns\n",
    "    -------\n",
    "    D50 : float\n",
    "        cut point diameter\n",
    "    \"\"\"\n",
    "    D50 = np.sqrt( (9*np.pi*Stk50*n*W**3)/(4*RhoP*C*Q))\n",
    "    \n",
    "    return D50\n",
    "\n",
    "def calcC(Kn, a = 1.165, b = 0.483, c = 0.997):\n",
    "    \"\"\"\n",
    "    Returns the Cunningham Slip Correction C\n",
    "    \n",
    "    Parameters\n",
    "    ----------\n",
    "    Kn : float\n",
    "        Knudsen Number (Kim et al., 2005)\n",
    "        \n",
    "    a : float\n",
    "        fixed value\n",
    "        \n",
    "    b : float\n",
    "        fixed value\n",
    "    \n",
    "    c : float\n",
    "        fixed value\n",
    "        \n",
    "    Returns\n",
    "    -------\n",
    "    C : float\n",
    "        Cunningham Slip Correction\n",
    "    \n",
    "    \"\"\"\n",
    "    C = 1 + Kn*( a + b * np.exp( - (c/Kn) )  )\n",
    "    \n",
    "    return C\n",
    "\n",
    "def calcKn(lm, Dp):\n",
    "    \"\"\"\n",
    "    Returns the Knudsen Number (Kim et al., 2005)\n",
    "    \n",
    "    Parameters\n",
    "    ----------\n",
    "    lm : float\n",
    "        gas mean free path (nm / m)\n",
    "        \n",
    "    Dp : paticle diameter (nm / m)\n",
    "        \n",
    "    Returns\n",
    "    -------\n",
    "    Kn : float\n",
    "        Knudsen Number\n",
    "    \"\"\"\n",
    "    \n",
    "    Kn = (2*lm) / Dp\n",
    "    \n",
    "    return Kn\n"
   ]
  },
  {
   "cell_type": "code",
   "execution_count": 3,
   "metadata": {},
   "outputs": [
    {
     "ename": "NameError",
     "evalue": "name 'calcKn' is not defined",
     "output_type": "error",
     "traceback": [
      "\u001b[0;31m---------------------------------------------------------------------------\u001b[0m",
      "\u001b[0;31mNameError\u001b[0m                                 Traceback (most recent call last)",
      "\u001b[0;32m<ipython-input-3-46b37945c5f4>\u001b[0m in \u001b[0;36m<module>\u001b[0;34m\u001b[0m\n\u001b[1;32m     30\u001b[0m \u001b[0;34m\u001b[0m\u001b[0m\n\u001b[1;32m     31\u001b[0m \u001b[0;34m\u001b[0m\u001b[0m\n\u001b[0;32m---> 32\u001b[0;31m \u001b[0mcalcD50\u001b[0m\u001b[0;34m(\u001b[0m\u001b[0mn\u001b[0m\u001b[0;34m,\u001b[0m \u001b[0mW\u001b[0m\u001b[0;34m,\u001b[0m \u001b[0mRhoP\u001b[0m\u001b[0;34m,\u001b[0m \u001b[0mQ\u001b[0m\u001b[0;34m,\u001b[0m \u001b[0mlm\u001b[0m\u001b[0;34m,\u001b[0m \u001b[0mDp\u001b[0m\u001b[0;34m)\u001b[0m\u001b[0;34m\u001b[0m\u001b[0;34m\u001b[0m\u001b[0m\n\u001b[0m",
      "\u001b[0;32m<ipython-input-3-46b37945c5f4>\u001b[0m in \u001b[0;36mcalcD50\u001b[0;34m(n, W, RhoP, Q, lm, Dp)\u001b[0m\n\u001b[1;32m     10\u001b[0m \u001b[0;34m\u001b[0m\u001b[0m\n\u001b[1;32m     11\u001b[0m \u001b[0;32mdef\u001b[0m \u001b[0mcalcD50\u001b[0m\u001b[0;34m(\u001b[0m\u001b[0mn\u001b[0m\u001b[0;34m,\u001b[0m \u001b[0mW\u001b[0m\u001b[0;34m,\u001b[0m \u001b[0mRhoP\u001b[0m\u001b[0;34m,\u001b[0m \u001b[0mQ\u001b[0m\u001b[0;34m,\u001b[0m \u001b[0mlm\u001b[0m\u001b[0;34m,\u001b[0m \u001b[0mDp\u001b[0m\u001b[0;34m)\u001b[0m\u001b[0;34m:\u001b[0m\u001b[0;34m\u001b[0m\u001b[0;34m\u001b[0m\u001b[0m\n\u001b[0;32m---> 12\u001b[0;31m     \u001b[0mKn\u001b[0m \u001b[0;34m=\u001b[0m \u001b[0mcalcKn\u001b[0m\u001b[0;34m(\u001b[0m\u001b[0mlm\u001b[0m\u001b[0;34m,\u001b[0m \u001b[0mDp\u001b[0m\u001b[0;34m)\u001b[0m\u001b[0;34m\u001b[0m\u001b[0;34m\u001b[0m\u001b[0m\n\u001b[0m\u001b[1;32m     13\u001b[0m     \u001b[0;32mtry\u001b[0m\u001b[0;34m:\u001b[0m\u001b[0;34m\u001b[0m\u001b[0;34m\u001b[0m\u001b[0m\n\u001b[1;32m     14\u001b[0m         \u001b[0mprint\u001b[0m\u001b[0;34m(\u001b[0m\u001b[0;34m\"Knudsen number: %.3f\"\u001b[0m \u001b[0;34m%\u001b[0m\u001b[0mKn\u001b[0m\u001b[0;34m)\u001b[0m\u001b[0;34m\u001b[0m\u001b[0;34m\u001b[0m\u001b[0m\n",
      "\u001b[0;31mNameError\u001b[0m: name 'calcKn' is not defined"
     ]
    }
   ],
   "source": [
    "#######################################\n",
    "#             Example                 #\n",
    "#######################################\n",
    "n = 1.84341 * 10**-4 # gas viscosity g/(cm s)\n",
    "W = 0.0508 # impactor diameter (cm)\n",
    "RhoP = 1.0 # particle density (g / cm^3)\n",
    "Q =  6.217 # volumetric flow rate (cm^3/s) 6.217\n",
    "lm = 69.06 # gas mean free path (nm, cm, m) -- as long as it's consistent with Dp\n",
    "Dp = 749.9 # particle diameter (nm, cm, m) -- as long as it's consistent with lm\n",
    "\n",
    "def calcD50(n, W, RhoP, Q, lm, Dp):\n",
    "    Kn = calcKn(lm, Dp)\n",
    "    try:\n",
    "        print(\"Knudsen number: %.3f\" %Kn)\n",
    "    except TypeError:\n",
    "        pass\n",
    "    C = calcC(Kn)\n",
    "    try:\n",
    "        print(\"Cunningham Slip Correction: %.3f\" % C)\n",
    "    except TypeError:\n",
    "        pass\n",
    "    try:\n",
    "        outD50 = D50(n, W, RhoP, Q, C, Stk50 = 0.23)\n",
    "    except TypeError:\n",
    "        pass\n",
    "    try:\n",
    "        print( (\"D50 (nm): %.1f\" %(outD50 *10**7)) )\n",
    "    except TypeError:\n",
    "        return outD50\n",
    "    \n",
    "    \n",
    "calcD50(n, W, RhoP, Q, lm, Dp)"
   ]
  },
  {
   "cell_type": "code",
   "execution_count": 52,
   "metadata": {},
   "outputs": [
    {
     "name": "stdout",
     "output_type": "stream",
     "text": [
      "Knudsen number: 0.133\n",
      "Cunningham Slip Correction: 1.155\n",
      "D50 (nm): 9328.3\n"
     ]
    }
   ],
   "source": [
    "#######################################\n",
    "#             Example OPC             #\n",
    "#######################################\n",
    "n = 1.833 * 10**-4 # gas viscosity g/(cm s)\n",
    "W = 1.12 # impactor diameter (cm)\n",
    "RhoP = 1.0 # particle density (g / cm^3)\n",
    "Q = 416.667 # volumetric flow rate (cm^3/s) 6.217\n",
    "lm = 66.4 # gas mean free path (nm, cm, m) -- as long as it's consistent with Dp\n",
    "Dp = 1000 # particle diameter (nm, cm, m) -- as long as it's consistent with lm\n",
    "\n",
    "Kn = calcKn(lm, Dp)\n",
    "C = calcC(Kn)\n",
    "\n",
    "def calcD50(n, W, RhoP, Q, lm, Dp):\n",
    "    Kn = calcKn(lm, Dp)\n",
    "    try:\n",
    "        print(\"Knudsen number: %.3f\" %Kn)\n",
    "    except TypeError:\n",
    "        pass\n",
    "    C = calcC(Kn)\n",
    "    try:\n",
    "        print(\"Cunningham Slip Correction: %.3f\" % C)\n",
    "    except TypeError:\n",
    "        pass\n",
    "    try:\n",
    "        outD50 = D50(n, W, RhoP, Q, C, Stk50 = 0.23)\n",
    "    except TypeError:\n",
    "        pass\n",
    "    try:\n",
    "        print( (\"D50 (nm): %.1f\" %(outD50 *10**7)) )\n",
    "    except TypeError:\n",
    "        return outD50\n",
    "    \n",
    "    \n",
    "calcD50(n, W, RhoP, Q, lm, Dp)"
   ]
  },
  {
   "cell_type": "code",
   "execution_count": 95,
   "metadata": {},
   "outputs": [
    {
     "data": {
      "text/plain": [
       "(9.328254068701916, 9.328254068701916, 422.92482572239)"
      ]
     },
     "execution_count": 95,
     "metadata": {},
     "output_type": "execute_result"
    }
   ],
   "source": [
    "U1 = Q/(np.pi*(W/2)**2)\n",
    "\n",
    "(np.sqrt( (9*n*W)/(RhoP*U1*C) ) * np.sqrt(0.23)) *10000, np.sqrt( (9*np.pi*0.23*n*W**3)/(4*RhoP*C*Q))*10000, U1"
   ]
  },
  {
   "cell_type": "code",
   "execution_count": 96,
   "metadata": {},
   "outputs": [
    {
     "data": {
      "text/plain": [
       "(1.12, 1.2042223169128783)"
      ]
     },
     "execution_count": 96,
     "metadata": {},
     "output_type": "execute_result"
    }
   ],
   "source": [
    "W, (((0.00104**2)* (4*RhoP*C*Q))/(9*np.pi*0.23*n ))**(1/3)"
   ]
  },
  {
   "cell_type": "code",
   "execution_count": 1,
   "metadata": {},
   "outputs": [
    {
     "ename": "NameError",
     "evalue": "name 'calcKn' is not defined",
     "output_type": "error",
     "traceback": [
      "\u001b[0;31m---------------------------------------------------------------------------\u001b[0m",
      "\u001b[0;31mNameError\u001b[0m                                 Traceback (most recent call last)",
      "\u001b[0;32m<ipython-input-1-3e168d4f82e8>\u001b[0m in \u001b[0;36m<module>\u001b[0;34m\u001b[0m\n\u001b[1;32m      5\u001b[0m \u001b[0mC\u001b[0m \u001b[0;34m=\u001b[0m \u001b[0;36m1.1547472100224305\u001b[0m\u001b[0;34m\u001b[0m\u001b[0;34m\u001b[0m\u001b[0m\n\u001b[1;32m      6\u001b[0m \u001b[0;31m#C = 1\u001b[0m\u001b[0;34m\u001b[0m\u001b[0;34m\u001b[0m\u001b[0;34m\u001b[0m\u001b[0m\n\u001b[0;32m----> 7\u001b[0;31m \u001b[0mKn\u001b[0m \u001b[0;34m=\u001b[0m \u001b[0mcalcKn\u001b[0m\u001b[0;34m(\u001b[0m\u001b[0;36m6.64\u001b[0m\u001b[0;34m*\u001b[0m\u001b[0;36m10\u001b[0m\u001b[0;34m**\u001b[0m\u001b[0;34m-\u001b[0m\u001b[0;36m6\u001b[0m\u001b[0;34m,\u001b[0m \u001b[0mDp\u001b[0m\u001b[0;34m)\u001b[0m\u001b[0;34m\u001b[0m\u001b[0;34m\u001b[0m\u001b[0m\n\u001b[0m\u001b[1;32m      8\u001b[0m \u001b[0mC\u001b[0m \u001b[0;34m=\u001b[0m \u001b[0mcalcC\u001b[0m\u001b[0;34m(\u001b[0m\u001b[0mKn\u001b[0m\u001b[0;34m)\u001b[0m\u001b[0;34m\u001b[0m\u001b[0;34m\u001b[0m\u001b[0m\n\u001b[1;32m      9\u001b[0m \u001b[0mW\u001b[0m \u001b[0;34m=\u001b[0m \u001b[0;34m(\u001b[0m\u001b[0;34m(\u001b[0m\u001b[0;36m4\u001b[0m\u001b[0;34m*\u001b[0m\u001b[0mRhoP\u001b[0m\u001b[0;34m*\u001b[0m\u001b[0mC\u001b[0m\u001b[0;34m*\u001b[0m\u001b[0;34m(\u001b[0m\u001b[0mDp\u001b[0m\u001b[0;34m)\u001b[0m\u001b[0;34m**\u001b[0m\u001b[0;36m2\u001b[0m\u001b[0;34m*\u001b[0m\u001b[0mQ\u001b[0m\u001b[0;34m)\u001b[0m\u001b[0;34m/\u001b[0m\u001b[0;34m(\u001b[0m\u001b[0;36m9\u001b[0m\u001b[0;34m*\u001b[0m\u001b[0mnp\u001b[0m\u001b[0;34m.\u001b[0m\u001b[0mpi\u001b[0m\u001b[0;34m*\u001b[0m\u001b[0mn\u001b[0m\u001b[0;34m*\u001b[0m\u001b[0;34m(\u001b[0m\u001b[0;36m0.47\u001b[0m\u001b[0;34m)\u001b[0m\u001b[0;34m**\u001b[0m\u001b[0;36m2\u001b[0m\u001b[0;34m)\u001b[0m\u001b[0;34m)\u001b[0m\u001b[0;34m**\u001b[0m\u001b[0;34m(\u001b[0m\u001b[0;36m1\u001b[0m\u001b[0;34m/\u001b[0m\u001b[0;36m3\u001b[0m\u001b[0;34m)\u001b[0m\u001b[0;34m\u001b[0m\u001b[0;34m\u001b[0m\u001b[0m\n",
      "\u001b[0;31mNameError\u001b[0m: name 'calcKn' is not defined"
     ]
    }
   ],
   "source": [
    "Dp = 10*10**-4\n",
    "Q = 416.667\n",
    "#Q = 500\n",
    "Q = 83.333\n",
    "C = 1.1547472100224305\n",
    "#C = 1\n",
    "Kn = calcKn(6.64*10**-6, Dp)\n",
    "C = calcC(Kn)\n",
    "W = ((4*RhoP*C*(Dp)**2*Q)/(9*np.pi*n*(0.47)**2))**(1/3)\n",
    "W, C"
   ]
  },
  {
   "cell_type": "code",
   "execution_count": 143,
   "metadata": {},
   "outputs": [
    {
     "data": {
      "text/plain": [
       "3531.891462720698"
      ]
     },
     "execution_count": 143,
     "metadata": {},
     "output_type": "execute_result"
    }
   ],
   "source": [
    "(4*(1.205*10**-3)*500)/(np.pi*1.2*(1.81*10**-4))"
   ]
  },
  {
   "cell_type": "code",
   "execution_count": 144,
   "metadata": {},
   "outputs": [
    {
     "data": {
      "text/plain": [
       "2943.2452401948904"
      ]
     },
     "execution_count": 144,
     "metadata": {},
     "output_type": "execute_result"
    }
   ],
   "source": [
    "(4*(1.205*10**-3)*Q)/(np.pi*1.2*(1.81*10**-4))"
   ]
  },
  {
   "cell_type": "code",
   "execution_count": 100,
   "metadata": {},
   "outputs": [],
   "source": [
    "def calcStokes(RhoP, C, Dp, U, n, db):\n",
    "    Stk = (RhoP* C* Dp* U)/(n*db)\n",
    "    return Stk"
   ]
  },
  {
   "cell_type": "code",
   "execution_count": 101,
   "metadata": {},
   "outputs": [
    {
     "data": {
      "text/plain": [
       "[<matplotlib.lines.Line2D at 0x7f94bb44bdd0>]"
      ]
     },
     "execution_count": 101,
     "metadata": {},
     "output_type": "execute_result"
    },
    {
     "data": {
      "image/png": "[encoded data removed]",
      "text/plain": [
       "<Figure size 432x288 with 1 Axes>"
      ]
     },
     "metadata": {
      "needs_background": "light"
     },
     "output_type": "display_data"
    }
   ],
   "source": [
    "psizes = np.arange(0, 1000, 1)\n",
    "U1 = Q/(np.pi*(W/2)**2)\n",
    "Stkno = calcStokes(RhoP, C, psizes,U1, n, W )\n",
    "fig, ax = plt.subplots()\n",
    "ax.plot(psizes, Stkno)"
   ]
  },
  {
   "cell_type": "code",
   "execution_count": 106,
   "metadata": {},
   "outputs": [
    {
     "data": {
      "text/plain": [
       "12.0"
      ]
     },
     "execution_count": 106,
     "metadata": {},
     "output_type": "execute_result"
    }
   ],
   "source": [
    "(1.2*10**-2)*1000"
   ]
  },
  {
   "cell_type": "code",
   "execution_count": 4,
   "metadata": {},
   "outputs": [
    {
     "data": {
      "image/png": "[encoded data removed]",
      "text/plain": [
       "<Figure size 432x288 with 1 Axes>"
      ]
     },
     "metadata": {
      "needs_background": "light"
     },
     "output_type": "display_data"
    }
   ],
   "source": [
    "#######################################\n",
    "#             From AIM file           #\n",
    "#######################################\n",
    "\n",
    "filename = os.path.join(newpath, 'data/testdata/LongTerm.csv')\n",
    "\n",
    "# read SMPS data\n",
    "SMPS = read(filename)\n",
    "\n",
    "# get / transform relevant variables\n",
    "\n",
    "n = np.asarray(SMPS.viscosity['data']) * 10 # Pa s to g/(cm s)\n",
    "W = float(SMPS.metadata['Impactor (cm)'])\n",
    "RhoP = np.asarray(SMPS.density['data'])\n",
    "Q = np.asarray(SMPS.aerosol_flow['data'])*1000/60 # L/min to cm^3/s\n",
    "lm = np.asarray(SMPS.mean_free_path['data']) * (10**9) # m to nm\n",
    "Dp = np.asarray(SMPS.upper_size['data'])\n",
    "\n",
    "# calculate D50 for all values in file\n",
    "allD50 = calcD50(n, W, RhoP, Q, lm, Dp)*10**7\n",
    "\n",
    "# compare with D50 given in AIM file\n",
    "AIMD50 = SMPS.D50['data']\n",
    "\n",
    "fig, ax = plt.subplots()\n",
    "ax.plot(np.arange(len(allD50)), allD50, color = 'b', label = 'calculated D50')\n",
    "ax.plot(np.arange(len(AIMD50)), AIMD50, color = 'k', label = 'AIM file D50')\n",
    "ax.set_xlabel('Sample #')\n",
    "ax.set_ylabel('D50 (nm)')\n",
    "lgd = ax.legend()\n"
   ]
  },
  {
   "cell_type": "code",
   "execution_count": 10,
   "metadata": {},
   "outputs": [
    {
     "data": {
      "application/javascript": [
       "IPython.notebook.execute_cells_below()"
      ],
      "text/plain": [
       "<IPython.core.display.Javascript object>"
      ]
     },
     "metadata": {},
     "output_type": "display_data"
    }
   ],
   "source": [
    "# RUN WIDGET # \n",
    "\n",
    "display(Javascript('IPython.notebook.execute_cells_below()'))"
   ]
  },
  {
   "cell_type": "code",
   "execution_count": 11,
   "metadata": {},
   "outputs": [
    {
     "data": {
      "text/html": [
       "<script>\n",
       "code_show=true; \n",
       "function code_toggle() {\n",
       " if (code_show){\n",
       " $('div.input').hide();\n",
       " } else {\n",
       " $('div.input').show();\n",
       " }\n",
       " code_show = !code_show\n",
       "} \n",
       "$( document ).ready(code_toggle);\n",
       "</script>\n",
       "<form action=\"javascript:code_toggle()\"><input type=\"submit\" value=\"Click here to toggle on/off the raw code.\"></form>"
      ],
      "text/plain": [
       "<IPython.core.display.HTML object>"
      ]
     },
     "execution_count": 11,
     "metadata": {},
     "output_type": "execute_result"
    }
   ],
   "source": [
    "HTML('''<script>\n",
    "code_show=true; \n",
    "function code_toggle() {\n",
    " if (code_show){\n",
    " $('div.input').hide();\n",
    " } else {\n",
    " $('div.input').show();\n",
    " }\n",
    " code_show = !code_show\n",
    "} \n",
    "$( document ).ready(code_toggle);\n",
    "</script>\n",
    "<form action=\"javascript:code_toggle()\"><input type=\"submit\" value=\"Click here to toggle on/off the raw code.\"></form>''')"
   ]
  },
  {
   "cell_type": "code",
   "execution_count": 12,
   "metadata": {},
   "outputs": [
    {
     "data": {
      "application/vnd.jupyter.widget-view+json": {
       "model_id": "6c03735ff9204ad390d9c8ce32c6322f",
       "version_major": 2,
       "version_minor": 0
      },
      "text/plain": [
       "Button(description='Reset values', style=ButtonStyle())"
      ]
     },
     "metadata": {},
     "output_type": "display_data"
    }
   ],
   "source": [
    "#######################################\n",
    "#             Interactively           #\n",
    "#######################################\n",
    "\n",
    "def run_all(ev):\n",
    "    display(Javascript('IPython.notebook.execute_cells_below()'))\n",
    "    \n",
    "button = widgets.Button(description=\"Reset values\")\n",
    "button.on_click(run_all)\n",
    "display(button)"
   ]
  },
  {
   "cell_type": "code",
   "execution_count": 13,
   "metadata": {},
   "outputs": [
    {
     "data": {
      "application/vnd.jupyter.widget-view+json": {
       "model_id": "e10f706a932d4d68b1b795c95caab1ca",
       "version_major": 2,
       "version_minor": 0
      },
      "text/plain": [
       "HBox(children=(VBox(children=(BoundedFloatText(value=1.84341e-05, continuous_update=True, description='Gas vis…"
      ]
     },
     "metadata": {},
     "output_type": "display_data"
    }
   ],
   "source": [
    "#######################################\n",
    "#             Inputs                  #\n",
    "#######################################\n",
    "\n",
    "n = widgets.BoundedFloatText( value=1.84341 * 10**-5, min=1.84246*10**-5,max=1.86001*10**-4,step=1.*10**-6,\n",
    "                               description='Gas viscosity $Pa.s$ or $g/(cm.s)$:', style = {'description_width': 'initial'}, disabled=False, \n",
    "                               continuous_update=True, orientation='horizontal', readout=True, readout_format='.8f', \n",
    "                               tooltip = ('Reference gas viscosity'))\n",
    "\n",
    "unitselect_n = widgets.ToggleButtons(options=['Pa-s', 'g/(cm-s)'], description='Gas viscosity units:', disabled=False,\n",
    "                                     style =  {'description_width': 'initial'}, tooltips=['Pa-s units','g/(cm-s) units'])\n",
    "\n",
    "W = widgets.BoundedFloatText( value=0.0508, min=0.0457, max=0.06, step=0.0001, description='Nozzle diameter $cm$:', \n",
    "                             style = {'description_width': 'initial'}, disabled=False, continuous_update=True, orientation='horizontal', readout=True,\n",
    "                             readout_format='.4f', tooltip = ('Diameter of aerosol inlet'))\n",
    "\n",
    "RhoP = widgets.BoundedFloatText( value=1.0000, min=0, max=1.5,step=0.1, description='Particle Density $g/cm3$:', style = {'description_width': 'initial'},\n",
    "                                disabled=False, continuous_update=True, orientation='horizontal', readout=True, readout_format='.1f', \n",
    "                                tooltip = ('Particle density'))\n",
    "\n",
    "Q = widgets.BoundedFloatText( value=0.373, min=0, max=6.5, step=.001, description='Aerosol Flow Rate $L/min$ or $cm3/s$:', \n",
    "                             style = {'description_width': 'initial'}, disabled=False, continuous_update=True, orientation='horizontal', readout=True,\n",
    "                             readout_format='.3f', tooltip = ('Aerosol volumetric flow rate'))\n",
    "\n",
    "unitselect_flowrate =  widgets.ToggleButtons(options=['L/min', 'cm3/s'], description='volumetric flow rate:', disabled=False, \n",
    "                                             style =  {'description_width': 'initial'}, tooltips=['L/min units','cm3/s units'])\n",
    "\n",
    "lm = widgets.BoundedFloatText( value=69.06, min=67.000, max=70.000, step=0.001, description='mean free path $nm$:', \n",
    "                              style = {'description_width': 'initial'}, disabled=False, continuous_update=True, orientation='horizontal', readout=True,\n",
    "                              readout_format='.2f', tooltip = ('Mean free path'))\n",
    "\n",
    "Dp = widgets.BoundedFloatText( value=749.9, min=4.37, max=750, step=0.1, description='Particle diameter $nm$:',style = {'description_width': 'initial'},\n",
    "                              disabled=False, continuous_update=True, orientation='horizontal', readout=True, readout_format='.1f', \n",
    "                              tooltip = ('Particle diameter'))\n",
    "\n",
    "\n",
    "#######################################\n",
    "#             Outputs                 #\n",
    "#######################################\n",
    "\n",
    "def showKnC(lm:lm, Dp:Dp, tprint = True):\n",
    "    Kncalc = calcKn(lm, Dp)\n",
    "    Ccalc = calcC(Kncalc)\n",
    "    if tprint:\n",
    "        print( ('Knudsen number: ' + '%.9f')%(Kncalc) )\n",
    "        print( ('Cunningham Slip Correction: ' + '%.9f')%(Ccalc) )\n",
    "    return Kncalc, Ccalc\n",
    "\n",
    "def showD50(lm, Dp, RhoP, Q, n, W, nselect, fselect):\n",
    "    Kncalc = calcKn(lm, Dp)\n",
    "    C = calcC(Kncalc)\n",
    "    if nselect == 'Pa-s':\n",
    "        n = n*10\n",
    "    if fselect == 'L/min':\n",
    "        Q = Q*1000/60\n",
    "    calcD50 = D50(n, W, RhoP, Q, C, Stk50 = 0.23)* 10**7\n",
    "    print( ('D50 (nm): ' + '%.9f')%(calcD50) )\n",
    "\n",
    "outs1 =  widgets.interactive_output(showKnC,{'lm': lm, 'Dp': Dp} )\n",
    "outs2 =  widgets.interactive_output(showD50,{'lm':lm,'Dp':Dp, 'RhoP':RhoP,'Q':Q,'n':n,'W':W,'nselect':unitselect_n, 'fselect':unitselect_flowrate} )\n",
    "\n",
    "#######################################\n",
    "#             Widgets                 #\n",
    "#######################################\n",
    "\n",
    "\n",
    "ui = widgets.VBox([n, unitselect_n, W, RhoP, Q, unitselect_flowrate, lm, Dp])\n",
    "ui2 = widgets.VBox([outs1,outs2])\n",
    "\n",
    "uif = widgets.HBox([ui, ui2])\n",
    "\n",
    "display(uif)\n"
   ]
  },
  {
   "cell_type": "code",
   "execution_count": null,
   "metadata": {},
   "outputs": [],
   "source": []
  }
 ],
 "metadata": {
  "kernelspec": {
   "display_name": "Python 3",
   "language": "python",
   "name": "python3"
  },
  "language_info": {
   "codemirror_mode": {
    "name": "ipython",
    "version": 3
   },
   "file_extension": ".py",
   "mimetype": "text/x-python",
   "name": "python",
   "nbconvert_exporter": "python",
   "pygments_lexer": "ipython3",
   "version": "3.7.4"
  }
 },
 "nbformat": 4,
 "nbformat_minor": 4
}
