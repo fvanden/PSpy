{
 "cells": [
  {
   "cell_type": "code",
   "execution_count": 6,
   "metadata": {},
   "outputs": [
    {
     "data": {
      "text/html": [
       "<script>\n",
       "    // AUTORUN ALL CELLS ON NOTEBOOK-LOAD!\n",
       "    require(\n",
       "        ['base/js/namespace', 'jquery'], \n",
       "        function(jupyter, $) {\n",
       "            $(jupyter.events).on(\"kernel_ready.Kernel\", function () {\n",
       "                console.log(\"Auto-running all cells-below...\");\n",
       "                jupyter.actions.call('jupyter-notebook:run-all-cells-below');\n",
       "                jupyter.actions.call('jupyter-notebook:save-notebook');\n",
       "            });\n",
       "        }\n",
       "    );\n",
       "</script>\n"
      ],
      "text/plain": [
       "<IPython.core.display.HTML object>"
      ]
     },
     "metadata": {},
     "output_type": "display_data"
    }
   ],
   "source": [
    "%%html\n",
    "<script>\n",
    "    // AUTORUN ALL CELLS ON NOTEBOOK-LOAD!\n",
    "    require(\n",
    "        ['base/js/namespace', 'jquery'], \n",
    "        function(jupyter, $) {\n",
    "            $(jupyter.events).on(\"kernel_ready.Kernel\", function () {\n",
    "                console.log(\"Auto-running all cells-below...\");\n",
    "                jupyter.actions.call('jupyter-notebook:run-all-cells-below');\n",
    "                jupyter.actions.call('jupyter-notebook:save-notebook');\n",
    "            });\n",
    "        }\n",
    "    );\n",
    "</script>"
   ]
  },
  {
   "cell_type": "code",
   "execution_count": 7,
   "metadata": {},
   "outputs": [
    {
     "data": {
      "text/html": [
       "<script>\n",
       "code_show=true; \n",
       "function code_toggle() {\n",
       " if (code_show){\n",
       " $('div.input').hide();\n",
       " } else {\n",
       " $('div.input').show();\n",
       " }\n",
       " code_show = !code_show\n",
       "} \n",
       "$( document ).ready(code_toggle);\n",
       "</script>\n",
       "<form action=\"javascript:code_toggle()\"><input type=\"submit\" value=\"Click here to toggle on/off the raw code.\"></form>"
      ],
      "text/plain": [
       "<IPython.core.display.HTML object>"
      ]
     },
     "execution_count": 7,
     "metadata": {},
     "output_type": "execute_result"
    }
   ],
   "source": [
    "# TOGGLE ON/OFF RAW CODE\n",
    "from IPython.display import HTML\n",
    "\n",
    "HTML('''<script>\n",
    "code_show=true; \n",
    "function code_toggle() {\n",
    " if (code_show){\n",
    " $('div.input').hide();\n",
    " } else {\n",
    " $('div.input').show();\n",
    " }\n",
    " code_show = !code_show\n",
    "} \n",
    "$( document ).ready(code_toggle);\n",
    "</script>\n",
    "<form action=\"javascript:code_toggle()\"><input type=\"submit\" value=\"Click here to toggle on/off the raw code.\"></form>''')\n",
    "\n"
   ]
  },
  {
   "cell_type": "code",
   "execution_count": 8,
   "metadata": {},
   "outputs": [],
   "source": [
    "# IMPORTS\n",
    "\n",
    "import os\n",
    "import numpy as np\n",
    "import matplotlib.pyplot as plt\n",
    "\n",
    "from IPython.display import Image, display, Math, Latex, HTML, Javascript\n",
    "from ipywidgets import widgets, interact, Layout, interactive\n",
    "\n",
    "%matplotlib inline\n",
    "os.chdir('/home/fvanden/Documents/BAS/Python/aerosol-try/')\n",
    "\n",
    "from mypysmps.io.read import read\n",
    "from mypysmps.graph.psdisplay import PSDisplay\n",
    "from mypysmps.smpswidgets.widget_aux import wchooseFile, wread\n",
    "\n",
    "filename = widgets.Dropdown(options= wchooseFile(), value = 'data/testdata/LongTerm.csv', description='Filename')"
   ]
  },
  {
   "cell_type": "code",
   "execution_count": 11,
   "metadata": {},
   "outputs": [
    {
     "data": {
      "application/javascript": [
       "IPython.notebook.execute_cells_below()"
      ],
      "text/plain": [
       "<IPython.core.display.Javascript object>"
      ]
     },
     "metadata": {},
     "output_type": "display_data"
    },
    {
     "data": {
      "application/vnd.jupyter.widget-view+json": {
       "model_id": "08fec4c3232e475b84701ef6de3886e1",
       "version_major": 2,
       "version_minor": 0
      },
      "text/plain": [
       "Dropdown(description='Filename', index=8, options=('data/LongTerm.csv', 'data/LockdownData/2800720.csv', 'data…"
      ]
     },
     "metadata": {},
     "output_type": "display_data"
    },
    {
     "data": {
      "application/vnd.jupyter.widget-view+json": {
       "model_id": "3a3a9af1575a43f88fdc4a36142fda6f",
       "version_major": 2,
       "version_minor": 0
      },
      "text/plain": [
       "Button(description='Apply', style=ButtonStyle())"
      ]
     },
     "metadata": {},
     "output_type": "display_data"
    }
   ],
   "source": [
    "\n",
    "display(filename)\n",
    "\n",
    "def run_all(ev):\n",
    "    display(Javascript('IPython.notebook.execute_cells_below()'))\n",
    "    \n",
    "button = widgets.Button(description=\"Apply\")\n",
    "button.on_click(run_all)\n",
    "\n",
    "display(button)"
   ]
  },
  {
   "cell_type": "code",
   "execution_count": 12,
   "metadata": {},
   "outputs": [
    {
     "data": {
      "application/vnd.jupyter.widget-view+json": {
       "model_id": "9c018d2e82bc45fe9b28acbb22a524f5",
       "version_major": 2,
       "version_minor": 0
      },
      "text/plain": [
       "VBox(children=(HBox(children=(ToggleButtons(description='Variable:', options=('normalised_number_concentration…"
      ]
     },
     "metadata": {},
     "output_type": "display_data"
    }
   ],
   "source": [
    "SMPS = read(filename.value)\n",
    "psd = PSDisplay(SMPS)\n",
    "\n",
    "sample = widgets.IntSlider(min=0, max=len(SMPS.sample['data'])-1, continuous_update = False, description = 'sample #',layout = Layout(\n",
    "            width = '100%'\n",
    "        ))\n",
    "#sfields = widgets.ToggleButtons(options=SMPS.data['variables'], value = 'normalised_number_concentration', description='Variable:', disabled=False, button_style='')\n",
    "sfields = widgets.ToggleButtons(options=SMPS.data['variables'], value = SMPS.data['variables'][0], description='Variable:', disabled=False, button_style='')\n",
    "D50line = widgets.Checkbox(value=False,description='D50',disabled=False,indent=False, layout = Layout(width='20%'))\n",
    "boundaryline = widgets.Checkbox(value=False,description='Boundaries',disabled=False, indent=False, layout = Layout(width='20%'))\n",
    "indperiods = widgets.Checkbox(value=False,description='24 hour periods',disabled=False,indent=False, layout = Layout(width='20%'))\n",
    "clim = widgets.BoundedFloatText( value=2*10**4, min=1*10**1, max=1*10**8,step=1*10**1, description='clim:',\n",
    "    style = {'description_width': 'initial'}, disabled=False, continuous_update=True, orientation='horizontal',\n",
    "    readout=True, readout_format='.2f', layout = Layout(width='25%'))\n",
    "ylim = widgets.BoundedFloatText( value=1*10**3, min=1*10**1, max=1*10**8,step=1*10**1, description='dlim:', disabled=False, continuous_update=True, orientation='horizontal',\n",
    "    readout=True, readout_format='.2f', layout = Layout(width='25%'))\n",
    "\n",
    "outplot =  widgets.interactive_output(psd.histogram,{'field':sfields,'sample':sample,'add_D50':D50line,'add_boundaries':boundaryline, 'xlim': ylim,'ylim':clim}) \n",
    "outplot2 = widgets.interactive_output(psd.plot, {'field':sfields,'clim':clim, 'ylim':ylim, 'indicator':sample,'periods':indperiods})\n",
    "#outplot2 = widgets.interactive(psd.plot, field=sfields,clim=clim, ylim=ylim, indicator=sample)\n",
    "date = widgets.interactive_output(psd.dateInfo,{'sample':sample})\n",
    "\n",
    "ui1 = widgets.HBox([sfields])\n",
    "ui2 = widgets.HBox([D50line, boundaryline, clim, ylim])\n",
    "uidate = widgets.HBox([date])\n",
    "ui3 = widgets.VBox([ui1, ui2, outplot, sample, uidate, outplot2, indperiods], layout = Layout(height='100%'))\n",
    "                                      \n",
    "display(ui3)"
   ]
  },
  {
   "cell_type": "code",
   "execution_count": null,
   "metadata": {},
   "outputs": [],
   "source": []
  }
 ],
 "metadata": {
  "kernelspec": {
   "display_name": "Python 3",
   "language": "python",
   "name": "python3"
  },
  "language_info": {
   "codemirror_mode": {
    "name": "ipython",
    "version": 3
   },
   "file_extension": ".py",
   "mimetype": "text/x-python",
   "name": "python",
   "nbconvert_exporter": "python",
   "pygments_lexer": "ipython3",
   "version": "3.7.7"
  }
 },
 "nbformat": 4,
 "nbformat_minor": 4
}
